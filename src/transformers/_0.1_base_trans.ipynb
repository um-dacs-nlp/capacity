{
 "cells": [
  {
   "cell_type": "code",
   "execution_count": 30,
   "id": "7aa14fe5",
   "metadata": {},
   "outputs": [],
   "source": [
    "import pandas as pd\n",
    "from tqdm import tqdm\n",
    "\n",
    "import torch\n",
    "from torch.utils.data import Dataset, DataLoader\n",
    "\n",
    "DATA = \"/home/I6356345/project/data/triplets.tsv\""
   ]
  },
  {
   "cell_type": "markdown",
   "id": "45cbbcbc",
   "metadata": {},
   "source": [
    "1. Custom Tokenization: Column Value = One Token\n",
    "\n",
    "You need to build a tokenizer where each unique column value (entire concept, property, or related concept) is assigned a unique token ID. Here’s how to do that:\n",
    "\n",
    "Step 1: Build a Vocabulary from Column Values\n",
    "We'll create a dictionary where each unique value in the Concept, Property, and Related Concept columns gets assigned a unique token."
   ]
  },
  {
   "cell_type": "code",
   "execution_count": 31,
   "id": "43aeb321",
   "metadata": {},
   "outputs": [],
   "source": [
    "# Load TSV data\n",
    "data = pd.read_csv(DATA, sep=\"\\t\")\n",
    "# data"
   ]
  },
  {
   "cell_type": "code",
   "execution_count": 64,
   "id": "306f4dd5",
   "metadata": {},
   "outputs": [
    {
     "data": {
      "text/html": [
       "<div>\n",
       "<style scoped>\n",
       "    .dataframe tbody tr th:only-of-type {\n",
       "        vertical-align: middle;\n",
       "    }\n",
       "\n",
       "    .dataframe tbody tr th {\n",
       "        vertical-align: top;\n",
       "    }\n",
       "\n",
       "    .dataframe thead th {\n",
       "        text-align: right;\n",
       "    }\n",
       "</style>\n",
       "<table border=\"1\" class=\"dataframe\">\n",
       "  <thead>\n",
       "    <tr style=\"text-align: right;\">\n",
       "      <th></th>\n",
       "      <th>Concept</th>\n",
       "      <th>Property</th>\n",
       "      <th>Related Concept</th>\n",
       "      <th>tokenized_concept</th>\n",
       "      <th>tokenized_property</th>\n",
       "      <th>tokenized_related_concept</th>\n",
       "      <th>input_sequence</th>\n",
       "    </tr>\n",
       "  </thead>\n",
       "  <tbody>\n",
       "    <tr>\n",
       "      <th>0</th>\n",
       "      <td>1,4-alpha-Glucan branching enzyme</td>\n",
       "      <td>originals</td>\n",
       "      <td>1,4-alpha-Glucan branching enzyme</td>\n",
       "      <td>[1]</td>\n",
       "      <td>[1001]</td>\n",
       "      <td>[1]</td>\n",
       "      <td>[1, 1001]</td>\n",
       "    </tr>\n",
       "    <tr>\n",
       "      <th>1</th>\n",
       "      <td>Methylphenyltetrahydropyridine</td>\n",
       "      <td>originals</td>\n",
       "      <td>Methylphenyltetrahydropyridine</td>\n",
       "      <td>[2]</td>\n",
       "      <td>[1001]</td>\n",
       "      <td>[2]</td>\n",
       "      <td>[2, 1001]</td>\n",
       "    </tr>\n",
       "    <tr>\n",
       "      <th>2</th>\n",
       "      <td>1-naphthylamine</td>\n",
       "      <td>originals</td>\n",
       "      <td>1-naphthylamine</td>\n",
       "      <td>[3]</td>\n",
       "      <td>[1001]</td>\n",
       "      <td>[3]</td>\n",
       "      <td>[3, 1001]</td>\n",
       "    </tr>\n",
       "    <tr>\n",
       "      <th>3</th>\n",
       "      <td>17-hydroxycorticosteroid</td>\n",
       "      <td>originals</td>\n",
       "      <td>17-hydroxycorticosteroid</td>\n",
       "      <td>[4]</td>\n",
       "      <td>[1001]</td>\n",
       "      <td>[4]</td>\n",
       "      <td>[4, 1001]</td>\n",
       "    </tr>\n",
       "    <tr>\n",
       "      <th>4</th>\n",
       "      <td>17-ketosteroid</td>\n",
       "      <td>originals</td>\n",
       "      <td>17-ketosteroid</td>\n",
       "      <td>[5]</td>\n",
       "      <td>[1001]</td>\n",
       "      <td>[5]</td>\n",
       "      <td>[5, 1001]</td>\n",
       "    </tr>\n",
       "  </tbody>\n",
       "</table>\n",
       "</div>"
      ],
      "text/plain": [
       "                             Concept   Property  \\\n",
       "0  1,4-alpha-Glucan branching enzyme  originals   \n",
       "1     Methylphenyltetrahydropyridine  originals   \n",
       "2                    1-naphthylamine  originals   \n",
       "3           17-hydroxycorticosteroid  originals   \n",
       "4                     17-ketosteroid  originals   \n",
       "\n",
       "                     Related Concept tokenized_concept tokenized_property  \\\n",
       "0  1,4-alpha-Glucan branching enzyme               [1]             [1001]   \n",
       "1     Methylphenyltetrahydropyridine               [2]             [1001]   \n",
       "2                    1-naphthylamine               [3]             [1001]   \n",
       "3           17-hydroxycorticosteroid               [4]             [1001]   \n",
       "4                     17-ketosteroid               [5]             [1001]   \n",
       "\n",
       "  tokenized_related_concept input_sequence  \n",
       "0                       [1]      [1, 1001]  \n",
       "1                       [2]      [2, 1001]  \n",
       "2                       [3]      [3, 1001]  \n",
       "3                       [4]      [4, 1001]  \n",
       "4                       [5]      [5, 1001]  "
      ]
     },
     "execution_count": 64,
     "metadata": {},
     "output_type": "execute_result"
    }
   ],
   "source": [
    "df = data.sample(n=100)\n",
    "df = data[:10000]\n",
    "# df=data\n",
    "df.head()"
   ]
  },
  {
   "cell_type": "code",
   "execution_count": 65,
   "id": "f6fbbd57",
   "metadata": {},
   "outputs": [
    {
     "data": {
      "text/plain": [
       "0       None\n",
       "1       None\n",
       "2       None\n",
       "3       None\n",
       "4       None\n",
       "        ... \n",
       "9995    None\n",
       "9996    None\n",
       "9997    None\n",
       "9998    None\n",
       "9999    None\n",
       "Name: Related Concept, Length: 10000, dtype: object"
      ]
     },
     "execution_count": 65,
     "metadata": {},
     "output_type": "execute_result"
    }
   ],
   "source": [
    "# Create an empty vocabulary\n",
    "vocab = {}\n",
    "token_counter = 1  # Start token IDs from 1 (you can reserve 0 for padding if needed)\n",
    "\n",
    "# Function to add unique column values to the vocab\n",
    "def add_to_vocab(value):\n",
    "    global token_counter\n",
    "    if value not in vocab:\n",
    "        vocab[value] = token_counter\n",
    "        token_counter += 1\n",
    "\n",
    "# Add all unique values from Concept, Property, and Related Concept to the vocabulary\n",
    "df['Concept'].apply(add_to_vocab)\n",
    "df['Property'].apply(add_to_vocab)\n",
    "df['Related Concept'].apply(add_to_vocab)\n",
    "\n",
    "# Let's check the created vocabulary\n",
    "# print(vocab)"
   ]
  },
  {
   "cell_type": "markdown",
   "id": "9cef16ef",
   "metadata": {},
   "source": [
    "Step 2: Tokenize Data Based on the Vocabulary\n",
    "\n",
    "Once you have the vocabulary, you can now map each column value to its corresponding token ID:"
   ]
  },
  {
   "cell_type": "code",
   "execution_count": 66,
   "id": "4b737399",
   "metadata": {},
   "outputs": [
    {
     "name": "stdout",
     "output_type": "stream",
     "text": [
      "  input_sequence tokenized_related_concept\n",
      "0      [1, 9999]                       [1]\n",
      "1      [2, 9999]                       [2]\n",
      "2      [3, 9999]                       [3]\n",
      "3      [4, 9999]                       [4]\n",
      "4      [5, 9999]                       [5]\n"
     ]
    },
    {
     "name": "stderr",
     "output_type": "stream",
     "text": [
      "/home/I6356345/anaconda3/envs/p37/lib/python3.7/site-packages/ipykernel_launcher.py:6: SettingWithCopyWarning: \n",
      "A value is trying to be set on a copy of a slice from a DataFrame.\n",
      "Try using .loc[row_indexer,col_indexer] = value instead\n",
      "\n",
      "See the caveats in the documentation: https://pandas.pydata.org/pandas-docs/stable/user_guide/indexing.html#returning-a-view-versus-a-copy\n",
      "  \n",
      "/home/I6356345/anaconda3/envs/p37/lib/python3.7/site-packages/ipykernel_launcher.py:7: SettingWithCopyWarning: \n",
      "A value is trying to be set on a copy of a slice from a DataFrame.\n",
      "Try using .loc[row_indexer,col_indexer] = value instead\n",
      "\n",
      "See the caveats in the documentation: https://pandas.pydata.org/pandas-docs/stable/user_guide/indexing.html#returning-a-view-versus-a-copy\n",
      "  import sys\n",
      "/home/I6356345/anaconda3/envs/p37/lib/python3.7/site-packages/ipykernel_launcher.py:8: SettingWithCopyWarning: \n",
      "A value is trying to be set on a copy of a slice from a DataFrame.\n",
      "Try using .loc[row_indexer,col_indexer] = value instead\n",
      "\n",
      "See the caveats in the documentation: https://pandas.pydata.org/pandas-docs/stable/user_guide/indexing.html#returning-a-view-versus-a-copy\n",
      "  \n",
      "/home/I6356345/anaconda3/envs/p37/lib/python3.7/site-packages/ipykernel_launcher.py:11: SettingWithCopyWarning: \n",
      "A value is trying to be set on a copy of a slice from a DataFrame.\n",
      "Try using .loc[row_indexer,col_indexer] = value instead\n",
      "\n",
      "See the caveats in the documentation: https://pandas.pydata.org/pandas-docs/stable/user_guide/indexing.html#returning-a-view-versus-a-copy\n",
      "  # This is added back by InteractiveShellApp.init_path()\n"
     ]
    }
   ],
   "source": [
    "# Function to tokenize a column value based on the vocab\n",
    "def tokenize(value):\n",
    "    return [vocab[value]]  # Return token ID as a list to keep compatibility with batch processing\n",
    "\n",
    "# Tokenize the Concept, Property, and Related Concept columns\n",
    "df['tokenized_concept'] = df['Concept'].apply(tokenize)\n",
    "df['tokenized_property'] = df['Property'].apply(tokenize)\n",
    "df['tokenized_related_concept'] = df['Related Concept'].apply(tokenize)\n",
    "\n",
    "# Combine tokenized concept and property into a single input sequence\n",
    "df['input_sequence'] = df.apply(lambda row: row['tokenized_concept'] + row['tokenized_property'], axis=1)\n",
    "\n",
    "# Show the tokenized data\n",
    "print(df[['input_sequence', 'tokenized_related_concept']].head())\n"
   ]
  },
  {
   "cell_type": "markdown",
   "id": "d894c8b5",
   "metadata": {},
   "source": [
    "Step 3: Prepare Dataset for Training\n",
    "Now you can create a Dataset class as before, but each \"input sequence\" will be a token representing the entire Concept and Property, and the target sequence will be the token representing the Related Concept."
   ]
  },
  {
   "cell_type": "code",
   "execution_count": 67,
   "id": "a329b1f3",
   "metadata": {},
   "outputs": [],
   "source": [
    "class TripletDataset(Dataset):\n",
    "    def __init__(self, df):\n",
    "        self.inputs = df['input_sequence'].tolist()\n",
    "        self.targets = df['tokenized_related_concept'].tolist()\n",
    "\n",
    "    def __len__(self):\n",
    "        return len(self.inputs)\n",
    "\n",
    "    def __getitem__(self, idx):\n",
    "        input_sequence = torch.tensor(self.inputs[idx], dtype=torch.long)\n",
    "        target_sequence = torch.tensor(self.targets[idx], dtype=torch.long)\n",
    "        return input_sequence, target_sequence\n",
    "\n",
    "# Create dataset and data loader\n",
    "dataset = TripletDataset(df)\n",
    "train_loader = DataLoader(dataset, batch_size=8, shuffle=True)\n"
   ]
  },
  {
   "cell_type": "markdown",
   "id": "7f52c46a",
   "metadata": {},
   "source": [
    "4. Building and Training the Transformer Model\n",
    "Now that the data is properly tokenized, the transformer model and training loop will remain mostly the same. Here's a reminder of how you set up the model:"
   ]
  },
  {
   "cell_type": "code",
   "execution_count": 68,
   "id": "2d6f4722",
   "metadata": {},
   "outputs": [],
   "source": [
    "import torch\n",
    "import torch.nn as nn\n",
    "import torch.optim as optim\n",
    "\n",
    "class GPTLikeModel(nn.Module):\n",
    "    def __init__(self, vocab_size, d_model, n_heads, num_layers, max_seq_len):\n",
    "        super(GPTLikeModel, self).__init__()\n",
    "        self.embedding = nn.Embedding(vocab_size, d_model)\n",
    "        self.positional_encoding = nn.Parameter(torch.zeros(1, max_seq_len, d_model))\n",
    "\n",
    "        self.transformer_layers = nn.ModuleList([\n",
    "            nn.TransformerDecoderLayer(d_model=d_model, nhead=n_heads) for _ in range(num_layers)\n",
    "        ])\n",
    "        \n",
    "        self.fc_out = nn.Linear(d_model, vocab_size)\n",
    "\n",
    "    def forward(self, x):\n",
    "        # Embedding and positional encoding\n",
    "        seq_len = x.size(1)\n",
    "        x = self.embedding(x) + self.positional_encoding[:, :seq_len, :]\n",
    "\n",
    "        # Pass through each transformer decoder layer\n",
    "        for layer in self.transformer_layers:\n",
    "            x = layer(x, x)  # Decoder takes input twice in GPT-like models\n",
    "\n",
    "        # Output layer\n",
    "        logits = self.fc_out(x)\n",
    "        return logits\n",
    "\n",
    "# Define model hyperparameters\n",
    "vocab_size = len(vocab) + 1  # Include 1 for padding (if needed)\n",
    "d_model = 128  # Embedding size\n",
    "n_heads = 4  # Number of attention heads\n",
    "num_layers = 1  # Number of transformer layers\n",
    "max_seq_len = 2  # Maximum sequence length (concept + property)\n",
    "\n",
    "# Initialize the model\n",
    "model = GPTLikeModel(vocab_size, d_model, n_heads, num_layers, max_seq_len)\n",
    "\n",
    "# Move the model to GPU if available\n",
    "device = torch.device(\"cuda:2\" if torch.cuda.is_available() else \"cpu\")\n",
    "model = model.to(device)\n",
    "\n",
    "# Define the optimizer and loss function\n",
    "optimizer = optim.Adam(model.parameters(), lr=0.001)\n",
    "criterion = nn.CrossEntropyLoss()\n"
   ]
  },
  {
   "cell_type": "markdown",
   "id": "ec79ec6d",
   "metadata": {},
   "source": [
    "5. Training the Model\n",
    "Once the model is defined, you can begin training it. Below is the training loop that processes the input sequences and target sequences through the model and updates the model's parameters using backpropagation."
   ]
  },
  {
   "cell_type": "code",
   "execution_count": 71,
   "id": "42f446eb",
   "metadata": {},
   "outputs": [
    {
     "name": "stderr",
     "output_type": "stream",
     "text": [
      "100%|██████████████████████████████████████| 1250/1250 [00:08<00:00, 147.08it/s]\n"
     ]
    },
    {
     "name": "stdout",
     "output_type": "stream",
     "text": [
      "Epoch 1, Training Loss: 4.206340262413025\n"
     ]
    },
    {
     "name": "stderr",
     "output_type": "stream",
     "text": [
      "100%|██████████████████████████████████████| 1250/1250 [00:01<00:00, 643.56it/s]\n"
     ]
    },
    {
     "name": "stdout",
     "output_type": "stream",
     "text": [
      "Epoch 1, Memorization Accuracy: 46.93000%\n"
     ]
    },
    {
     "name": "stderr",
     "output_type": "stream",
     "text": [
      "100%|██████████████████████████████████████| 1250/1250 [00:08<00:00, 144.67it/s]\n"
     ]
    },
    {
     "name": "stdout",
     "output_type": "stream",
     "text": [
      "Epoch 2, Training Loss: 3.855147563934326\n"
     ]
    },
    {
     "name": "stderr",
     "output_type": "stream",
     "text": [
      "100%|██████████████████████████████████████| 1250/1250 [00:01<00:00, 644.83it/s]\n"
     ]
    },
    {
     "name": "stdout",
     "output_type": "stream",
     "text": [
      "Epoch 2, Memorization Accuracy: 54.50000%\n"
     ]
    },
    {
     "name": "stderr",
     "output_type": "stream",
     "text": [
      "100%|██████████████████████████████████████| 1250/1250 [00:08<00:00, 146.39it/s]\n"
     ]
    },
    {
     "name": "stdout",
     "output_type": "stream",
     "text": [
      "Epoch 3, Training Loss: 3.4911270669937133\n"
     ]
    },
    {
     "name": "stderr",
     "output_type": "stream",
     "text": [
      "100%|██████████████████████████████████████| 1250/1250 [00:02<00:00, 560.88it/s]\n"
     ]
    },
    {
     "name": "stdout",
     "output_type": "stream",
     "text": [
      "Epoch 3, Memorization Accuracy: 61.08000%\n"
     ]
    },
    {
     "name": "stderr",
     "output_type": "stream",
     "text": [
      "100%|██████████████████████████████████████| 1250/1250 [00:08<00:00, 145.31it/s]\n"
     ]
    },
    {
     "name": "stdout",
     "output_type": "stream",
     "text": [
      "Epoch 4, Training Loss: 3.086393120288849\n"
     ]
    },
    {
     "name": "stderr",
     "output_type": "stream",
     "text": [
      "100%|██████████████████████████████████████| 1250/1250 [00:02<00:00, 589.85it/s]\n"
     ]
    },
    {
     "name": "stdout",
     "output_type": "stream",
     "text": [
      "Epoch 4, Memorization Accuracy: 71.58000%\n"
     ]
    },
    {
     "name": "stderr",
     "output_type": "stream",
     "text": [
      "100%|██████████████████████████████████████| 1250/1250 [00:08<00:00, 143.45it/s]\n"
     ]
    },
    {
     "name": "stdout",
     "output_type": "stream",
     "text": [
      "Epoch 5, Training Loss: 2.7193598182678222\n"
     ]
    },
    {
     "name": "stderr",
     "output_type": "stream",
     "text": [
      "100%|██████████████████████████████████████| 1250/1250 [00:02<00:00, 533.97it/s]\n"
     ]
    },
    {
     "name": "stdout",
     "output_type": "stream",
     "text": [
      "Epoch 5, Memorization Accuracy: 77.75000%\n"
     ]
    },
    {
     "name": "stderr",
     "output_type": "stream",
     "text": [
      "100%|██████████████████████████████████████| 1250/1250 [00:08<00:00, 147.61it/s]\n"
     ]
    },
    {
     "name": "stdout",
     "output_type": "stream",
     "text": [
      "Epoch 6, Training Loss: 2.3468707821846007\n"
     ]
    },
    {
     "name": "stderr",
     "output_type": "stream",
     "text": [
      "100%|██████████████████████████████████████| 1250/1250 [00:01<00:00, 627.61it/s]\n"
     ]
    },
    {
     "name": "stdout",
     "output_type": "stream",
     "text": [
      "Epoch 6, Memorization Accuracy: 83.07000%\n"
     ]
    },
    {
     "name": "stderr",
     "output_type": "stream",
     "text": [
      "100%|██████████████████████████████████████| 1250/1250 [00:08<00:00, 148.04it/s]\n"
     ]
    },
    {
     "name": "stdout",
     "output_type": "stream",
     "text": [
      "Epoch 7, Training Loss: 1.9590189062356949\n"
     ]
    },
    {
     "name": "stderr",
     "output_type": "stream",
     "text": [
      "100%|██████████████████████████████████████| 1250/1250 [00:02<00:00, 587.74it/s]\n"
     ]
    },
    {
     "name": "stdout",
     "output_type": "stream",
     "text": [
      "Epoch 7, Memorization Accuracy: 87.55000%\n"
     ]
    },
    {
     "name": "stderr",
     "output_type": "stream",
     "text": [
      "100%|██████████████████████████████████████| 1250/1250 [00:08<00:00, 140.75it/s]\n"
     ]
    },
    {
     "name": "stdout",
     "output_type": "stream",
     "text": [
      "Epoch 8, Training Loss: 1.6330068887233735\n"
     ]
    },
    {
     "name": "stderr",
     "output_type": "stream",
     "text": [
      "100%|██████████████████████████████████████| 1250/1250 [00:01<00:00, 646.06it/s]\n"
     ]
    },
    {
     "name": "stdout",
     "output_type": "stream",
     "text": [
      "Epoch 8, Memorization Accuracy: 91.32000%\n"
     ]
    },
    {
     "name": "stderr",
     "output_type": "stream",
     "text": [
      "100%|██████████████████████████████████████| 1250/1250 [00:08<00:00, 145.44it/s]\n"
     ]
    },
    {
     "name": "stdout",
     "output_type": "stream",
     "text": [
      "Epoch 9, Training Loss: 1.3227414251685143\n"
     ]
    },
    {
     "name": "stderr",
     "output_type": "stream",
     "text": [
      "100%|██████████████████████████████████████| 1250/1250 [00:02<00:00, 607.26it/s]\n"
     ]
    },
    {
     "name": "stdout",
     "output_type": "stream",
     "text": [
      "Epoch 9, Memorization Accuracy: 93.16000%\n"
     ]
    },
    {
     "name": "stderr",
     "output_type": "stream",
     "text": [
      "100%|██████████████████████████████████████| 1250/1250 [00:08<00:00, 145.70it/s]\n"
     ]
    },
    {
     "name": "stdout",
     "output_type": "stream",
     "text": [
      "Epoch 10, Training Loss: 1.1345771447300912\n"
     ]
    },
    {
     "name": "stderr",
     "output_type": "stream",
     "text": [
      "100%|██████████████████████████████████████| 1250/1250 [00:01<00:00, 695.25it/s]\n"
     ]
    },
    {
     "name": "stdout",
     "output_type": "stream",
     "text": [
      "Epoch 10, Memorization Accuracy: 95.01000%\n"
     ]
    },
    {
     "name": "stderr",
     "output_type": "stream",
     "text": [
      "100%|██████████████████████████████████████| 1250/1250 [00:08<00:00, 149.67it/s]\n"
     ]
    },
    {
     "name": "stdout",
     "output_type": "stream",
     "text": [
      "Epoch 11, Training Loss: 0.9183353682994843\n"
     ]
    },
    {
     "name": "stderr",
     "output_type": "stream",
     "text": [
      "100%|██████████████████████████████████████| 1250/1250 [00:01<00:00, 703.20it/s]\n"
     ]
    },
    {
     "name": "stdout",
     "output_type": "stream",
     "text": [
      "Epoch 11, Memorization Accuracy: 95.50000%\n"
     ]
    },
    {
     "name": "stderr",
     "output_type": "stream",
     "text": [
      "100%|██████████████████████████████████████| 1250/1250 [00:08<00:00, 145.25it/s]\n"
     ]
    },
    {
     "name": "stdout",
     "output_type": "stream",
     "text": [
      "Epoch 12, Training Loss: 0.7772527645885945\n"
     ]
    },
    {
     "name": "stderr",
     "output_type": "stream",
     "text": [
      "100%|██████████████████████████████████████| 1250/1250 [00:01<00:00, 715.34it/s]\n"
     ]
    },
    {
     "name": "stdout",
     "output_type": "stream",
     "text": [
      "Epoch 12, Memorization Accuracy: 96.48000%\n"
     ]
    },
    {
     "name": "stderr",
     "output_type": "stream",
     "text": [
      "100%|██████████████████████████████████████| 1250/1250 [00:08<00:00, 142.30it/s]\n"
     ]
    },
    {
     "name": "stdout",
     "output_type": "stream",
     "text": [
      "Epoch 13, Training Loss: 0.6665569043725729\n"
     ]
    },
    {
     "name": "stderr",
     "output_type": "stream",
     "text": [
      "100%|██████████████████████████████████████| 1250/1250 [00:01<00:00, 731.25it/s]\n"
     ]
    },
    {
     "name": "stdout",
     "output_type": "stream",
     "text": [
      "Epoch 13, Memorization Accuracy: 97.03000%\n"
     ]
    },
    {
     "name": "stderr",
     "output_type": "stream",
     "text": [
      "100%|██████████████████████████████████████| 1250/1250 [00:08<00:00, 145.58it/s]\n"
     ]
    },
    {
     "name": "stdout",
     "output_type": "stream",
     "text": [
      "Epoch 14, Training Loss: 0.5648019399374723\n"
     ]
    },
    {
     "name": "stderr",
     "output_type": "stream",
     "text": [
      "100%|██████████████████████████████████████| 1250/1250 [00:01<00:00, 712.43it/s]\n"
     ]
    },
    {
     "name": "stdout",
     "output_type": "stream",
     "text": [
      "Epoch 14, Memorization Accuracy: 97.58000%\n"
     ]
    },
    {
     "name": "stderr",
     "output_type": "stream",
     "text": [
      "100%|██████████████████████████████████████| 1250/1250 [00:08<00:00, 149.88it/s]\n"
     ]
    },
    {
     "name": "stdout",
     "output_type": "stream",
     "text": [
      "Epoch 15, Training Loss: 0.5137719763278961\n"
     ]
    },
    {
     "name": "stderr",
     "output_type": "stream",
     "text": [
      "100%|██████████████████████████████████████| 1250/1250 [00:01<00:00, 705.40it/s]\n"
     ]
    },
    {
     "name": "stdout",
     "output_type": "stream",
     "text": [
      "Epoch 15, Memorization Accuracy: 97.79000%\n"
     ]
    },
    {
     "name": "stderr",
     "output_type": "stream",
     "text": [
      "100%|██████████████████████████████████████| 1250/1250 [00:08<00:00, 148.49it/s]\n"
     ]
    },
    {
     "name": "stdout",
     "output_type": "stream",
     "text": [
      "Epoch 16, Training Loss: 0.4435343907639384\n"
     ]
    },
    {
     "name": "stderr",
     "output_type": "stream",
     "text": [
      "100%|██████████████████████████████████████| 1250/1250 [00:01<00:00, 691.12it/s]\n"
     ]
    },
    {
     "name": "stdout",
     "output_type": "stream",
     "text": [
      "Epoch 16, Memorization Accuracy: 98.19000%\n"
     ]
    },
    {
     "name": "stderr",
     "output_type": "stream",
     "text": [
      "100%|██████████████████████████████████████| 1250/1250 [00:08<00:00, 147.61it/s]\n"
     ]
    },
    {
     "name": "stdout",
     "output_type": "stream",
     "text": [
      "Epoch 17, Training Loss: 0.4109196829227731\n"
     ]
    },
    {
     "name": "stderr",
     "output_type": "stream",
     "text": [
      "100%|██████████████████████████████████████| 1250/1250 [00:01<00:00, 682.75it/s]\n"
     ]
    },
    {
     "name": "stdout",
     "output_type": "stream",
     "text": [
      "Epoch 17, Memorization Accuracy: 98.50000%\n"
     ]
    },
    {
     "name": "stderr",
     "output_type": "stream",
     "text": [
      "100%|██████████████████████████████████████| 1250/1250 [00:08<00:00, 150.16it/s]\n"
     ]
    },
    {
     "name": "stdout",
     "output_type": "stream",
     "text": [
      "Epoch 18, Training Loss: 0.4019919766925275\n"
     ]
    },
    {
     "name": "stderr",
     "output_type": "stream",
     "text": [
      "100%|██████████████████████████████████████| 1250/1250 [00:01<00:00, 661.38it/s]\n"
     ]
    },
    {
     "name": "stdout",
     "output_type": "stream",
     "text": [
      "Epoch 18, Memorization Accuracy: 98.46000%\n"
     ]
    },
    {
     "name": "stderr",
     "output_type": "stream",
     "text": [
      "100%|██████████████████████████████████████| 1250/1250 [00:08<00:00, 144.81it/s]\n"
     ]
    },
    {
     "name": "stdout",
     "output_type": "stream",
     "text": [
      "Epoch 19, Training Loss: 0.3497099509354681\n"
     ]
    },
    {
     "name": "stderr",
     "output_type": "stream",
     "text": [
      "100%|██████████████████████████████████████| 1250/1250 [00:02<00:00, 591.33it/s]\n"
     ]
    },
    {
     "name": "stdout",
     "output_type": "stream",
     "text": [
      "Epoch 19, Memorization Accuracy: 98.63000%\n"
     ]
    },
    {
     "name": "stderr",
     "output_type": "stream",
     "text": [
      "100%|██████████████████████████████████████| 1250/1250 [00:08<00:00, 144.42it/s]\n"
     ]
    },
    {
     "name": "stdout",
     "output_type": "stream",
     "text": [
      "Epoch 20, Training Loss: 0.33248605472203346\n"
     ]
    },
    {
     "name": "stderr",
     "output_type": "stream",
     "text": [
      "100%|██████████████████████████████████████| 1250/1250 [00:01<00:00, 664.41it/s]"
     ]
    },
    {
     "name": "stdout",
     "output_type": "stream",
     "text": [
      "Epoch 20, Memorization Accuracy: 98.65000%\n"
     ]
    },
    {
     "name": "stderr",
     "output_type": "stream",
     "text": [
      "\n"
     ]
    }
   ],
   "source": [
    "# Training and testing loop (memorization task)\n",
    "epochs = 20\n",
    "model.train()\n",
    "\n",
    "for epoch in range(epochs):\n",
    "    total_loss = 0\n",
    "    model.train()  # Set model to training mode\n",
    "\n",
    "    # Training on the same data\n",
    "    for batch in tqdm(train_loader):\n",
    "        inputs, targets = batch\n",
    "        inputs = inputs.to(device)\n",
    "        targets = targets.to(device)\n",
    "\n",
    "        # Forward pass\n",
    "        optimizer.zero_grad()\n",
    "        outputs = model(inputs)\n",
    "\n",
    "        # We only care about the first token in the output sequence\n",
    "        outputs = outputs[:, 0, :]  # Shape becomes: (batch_size, vocab_size)\n",
    "\n",
    "        targets = targets.view(-1)  # Flatten the targets\n",
    "\n",
    "        # Compute loss\n",
    "        loss = criterion(outputs, targets)\n",
    "        \n",
    "        # Backward pass and optimization\n",
    "        loss.backward()\n",
    "        optimizer.step()\n",
    "\n",
    "        total_loss += loss.item()\n",
    "\n",
    "    print(f\"Epoch {epoch + 1}, Training Loss: {total_loss / len(train_loader)}\")\n",
    "\n",
    "    # Testing on the same data (memorization check)\n",
    "    model.eval()  # Set model to evaluation mode\n",
    "    correct = 0\n",
    "    total = 0\n",
    "\n",
    "    with torch.no_grad():\n",
    "        for batch in tqdm(train_loader):  # Testing on the same dataset\n",
    "            inputs, targets = batch\n",
    "            inputs = inputs.to(device)\n",
    "            targets = targets.to(device)\n",
    "\n",
    "            outputs = model(inputs)\n",
    "            outputs = outputs[:, 0, :]  # Only take the first token prediction\n",
    "            predicted = torch.argmax(outputs, dim=1)\n",
    "\n",
    "            total += targets.size(0)\n",
    "            correct += (predicted == targets.view(-1)).sum().item()\n",
    "#             print(total, correct)\n",
    "\n",
    "    accuracy = 100 * correct / total\n",
    "    print(f\"Epoch {epoch + 1}, Memorization Accuracy: {accuracy:.5f}%\")\n"
   ]
  },
  {
   "cell_type": "code",
   "execution_count": 24,
   "id": "a30bfd8f",
   "metadata": {},
   "outputs": [
    {
     "data": {
      "text/plain": [
       "tensor([7208, 7208, 7208, 7208, 7208, 7208, 7208, 7208], device='cuda:0')"
      ]
     },
     "execution_count": 24,
     "metadata": {},
     "output_type": "execute_result"
    }
   ],
   "source": [
    "predicted"
   ]
  }
 ],
 "metadata": {
  "kernelspec": {
   "display_name": "Python 3 (ipykernel)",
   "language": "python",
   "name": "python3"
  },
  "language_info": {
   "codemirror_mode": {
    "name": "ipython",
    "version": 3
   },
   "file_extension": ".py",
   "mimetype": "text/x-python",
   "name": "python",
   "nbconvert_exporter": "python",
   "pygments_lexer": "ipython3",
   "version": "3.7.12"
  }
 },
 "nbformat": 4,
 "nbformat_minor": 5
}

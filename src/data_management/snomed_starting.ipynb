{
 "cells": [
  {
   "cell_type": "code",
   "execution_count": 1,
   "id": "de618e27",
   "metadata": {},
   "outputs": [
    {
     "name": "stderr",
     "output_type": "stream",
     "text": [
      "\n",
      "Warning: SQLite3 version 3.40.0 and 3.41.2 have huge performance regressions; please install version 3.41.1 or 3.42!\n",
      "\n"
     ]
    }
   ],
   "source": [
    "from owlready2 import *\n",
    "from owlready2.pymedtermino2 import *\n",
    "from owlready2.pymedtermino2.umls import *"
   ]
  },
  {
   "cell_type": "code",
   "execution_count": 2,
   "id": "c1d9fe36",
   "metadata": {},
   "outputs": [
    {
     "name": "stdout",
     "output_type": "stream",
     "text": [
      "Importing UMLS from umls-2019AA-metathesaurus.zip with Python version 3.11.5 and Owlready version 2-0.46...\n"
     ]
    },
    {
     "ename": "FileNotFoundError",
     "evalue": "[Errno 2] No such file or directory: 'umls-2019AA-metathesaurus.zip'",
     "output_type": "error",
     "traceback": [
      "\u001b[0;31m---------------------------------------------------------------------------\u001b[0m",
      "\u001b[0;31mFileNotFoundError\u001b[0m                         Traceback (most recent call last)",
      "Cell \u001b[0;32mIn[2], line 2\u001b[0m\n\u001b[1;32m      1\u001b[0m default_world\u001b[38;5;241m.\u001b[39mset_backend(filename \u001b[38;5;241m=\u001b[39m \u001b[38;5;124m\"\u001b[39m\u001b[38;5;124mpym.sqlite3\u001b[39m\u001b[38;5;124m\"\u001b[39m)\n\u001b[0;32m----> 2\u001b[0m import_umls(\u001b[38;5;124m\"\u001b[39m\u001b[38;5;124mumls-2019AA-metathesaurus.zip\u001b[39m\u001b[38;5;124m\"\u001b[39m, terminologies \u001b[38;5;241m=\u001b[39m [\u001b[38;5;124m\"\u001b[39m\u001b[38;5;124mICD10\u001b[39m\u001b[38;5;124m\"\u001b[39m, \u001b[38;5;124m\"\u001b[39m\u001b[38;5;124mSNOMEDCT_US\u001b[39m\u001b[38;5;124m\"\u001b[39m, \u001b[38;5;124m\"\u001b[39m\u001b[38;5;124mCUI\u001b[39m\u001b[38;5;124m\"\u001b[39m])\n\u001b[1;32m      3\u001b[0m default_world\u001b[38;5;241m.\u001b[39msave()\n",
      "File \u001b[0;32m~/anaconda3/lib/python3.11/site-packages/owlready2/pymedtermino2/umls.py:692\u001b[0m, in \u001b[0;36mimport_umls\u001b[0;34m(umls_zip_filename, terminologies, langs, fts_index, extract_groups, extract_attributes, extract_relations, extract_definitions, remove_suppressed)\u001b[0m\n\u001b[1;32m    688\u001b[0m         default_world\u001b[38;5;241m.\u001b[39msave()\n\u001b[1;32m    689\u001b[0m         previous_parser \u001b[38;5;241m=\u001b[39m table_name\n\u001b[0;32m--> 692\u001b[0m \u001b[38;5;28;01mwith\u001b[39;00m zipfile\u001b[38;5;241m.\u001b[39mZipFile(umls_zip_filename, \u001b[38;5;124m\"\u001b[39m\u001b[38;5;124mr\u001b[39m\u001b[38;5;124m\"\u001b[39m) \u001b[38;5;28;01mas\u001b[39;00m umls_zip:\n\u001b[1;32m    693\u001b[0m   filenames \u001b[38;5;241m=\u001b[39m \u001b[38;5;28msorted\u001b[39m(umls_zip\u001b[38;5;241m.\u001b[39mnamelist())\n\u001b[1;32m    695\u001b[0m   \u001b[38;5;66;03m#for filename in filenames:\u001b[39;00m\n\u001b[1;32m    696\u001b[0m   \u001b[38;5;66;03m#  if filename.endwiths(\"/META/\") or filename.endwiths(\"/META\"):\u001b[39;00m\n\u001b[1;32m    697\u001b[0m   \u001b[38;5;66;03m#    full_umls = False\u001b[39;00m\n\u001b[0;32m   (...)\u001b[0m\n\u001b[1;32m    700\u001b[0m \n\u001b[1;32m    701\u001b[0m   \u001b[38;5;66;03m#if full_umls:\u001b[39;00m\n",
      "File \u001b[0;32m~/anaconda3/lib/python3.11/zipfile.py:1284\u001b[0m, in \u001b[0;36mZipFile.__init__\u001b[0;34m(self, file, mode, compression, allowZip64, compresslevel, strict_timestamps, metadata_encoding)\u001b[0m\n\u001b[1;32m   1282\u001b[0m \u001b[38;5;28;01mwhile\u001b[39;00m \u001b[38;5;28;01mTrue\u001b[39;00m:\n\u001b[1;32m   1283\u001b[0m     \u001b[38;5;28;01mtry\u001b[39;00m:\n\u001b[0;32m-> 1284\u001b[0m         \u001b[38;5;28mself\u001b[39m\u001b[38;5;241m.\u001b[39mfp \u001b[38;5;241m=\u001b[39m io\u001b[38;5;241m.\u001b[39mopen(file, filemode)\n\u001b[1;32m   1285\u001b[0m     \u001b[38;5;28;01mexcept\u001b[39;00m \u001b[38;5;167;01mOSError\u001b[39;00m:\n\u001b[1;32m   1286\u001b[0m         \u001b[38;5;28;01mif\u001b[39;00m filemode \u001b[38;5;129;01min\u001b[39;00m modeDict:\n",
      "\u001b[0;31mFileNotFoundError\u001b[0m: [Errno 2] No such file or directory: 'umls-2019AA-metathesaurus.zip'"
     ]
    }
   ],
   "source": [
    "default_world.set_backend(filename = \"pym.sqlite3\")\n",
    "import_umls(\"umls-2019AA-metathesaurus.zip\", terminologies = [\"ICD10\", \"SNOMEDCT_US\", \"CUI\"])\n",
    "default_world.save()"
   ]
  }
 ],
 "metadata": {
  "kernelspec": {
   "display_name": "Python 3 (ipykernel)",
   "language": "python",
   "name": "python3"
  },
  "language_info": {
   "codemirror_mode": {
    "name": "ipython",
    "version": 3
   },
   "file_extension": ".py",
   "mimetype": "text/x-python",
   "name": "python",
   "nbconvert_exporter": "python",
   "pygments_lexer": "ipython3",
   "version": "3.11.5"
  }
 },
 "nbformat": 4,
 "nbformat_minor": 5
}

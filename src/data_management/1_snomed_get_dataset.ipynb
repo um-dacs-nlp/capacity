{
 "cells": [
  {
   "cell_type": "code",
   "execution_count": 10,
   "id": "de618e27",
   "metadata": {},
   "outputs": [
    {
     "ename": "ModuleNotFoundError",
     "evalue": "No module named 'pandas'",
     "output_type": "error",
     "traceback": [
      "\u001b[0;31m---------------------------------------------------------------------------\u001b[0m",
      "\u001b[0;31mModuleNotFoundError\u001b[0m                       Traceback (most recent call last)",
      "\u001b[0;32m/tmp/ipykernel_2717522/2096537351.py\u001b[0m in \u001b[0;36m<module>\u001b[0;34m\u001b[0m\n\u001b[1;32m      5\u001b[0m \u001b[0;34m\u001b[0m\u001b[0m\n\u001b[1;32m      6\u001b[0m \u001b[0;32mfrom\u001b[0m \u001b[0mtqdm\u001b[0m \u001b[0;32mimport\u001b[0m \u001b[0mtqdm\u001b[0m\u001b[0;34m\u001b[0m\u001b[0;34m\u001b[0m\u001b[0m\n\u001b[0;32m----> 7\u001b[0;31m \u001b[0;32mimport\u001b[0m \u001b[0mpandas\u001b[0m \u001b[0;32mas\u001b[0m \u001b[0mpd\u001b[0m\u001b[0;34m\u001b[0m\u001b[0;34m\u001b[0m\u001b[0m\n\u001b[0m\u001b[1;32m      8\u001b[0m \u001b[0;34m\u001b[0m\u001b[0m\n\u001b[1;32m      9\u001b[0m \u001b[0;32mimport\u001b[0m \u001b[0mrandom\u001b[0m\u001b[0;34m\u001b[0m\u001b[0;34m\u001b[0m\u001b[0m\n",
      "\u001b[0;31mModuleNotFoundError\u001b[0m: No module named 'pandas'"
     ]
    }
   ],
   "source": [
    "from owlready2 import *\n",
    "from owlready2.pymedtermino2 import *\n",
    "from owlready2.pymedtermino2.umls import *\n",
    "# from owlready2.pymedtermino2.icd10_french import *\n",
    "\n",
    "from tqdm import tqdm\n",
    "import pandas as pd\n",
    "\n",
    "import random"
   ]
  },
  {
   "cell_type": "code",
   "execution_count": 11,
   "id": "ec86b39e",
   "metadata": {},
   "outputs": [
    {
     "name": "stdout",
     "output_type": "stream",
     "text": [
      "Collecting pandas\n",
      "  Downloading pandas-1.3.5-cp37-cp37m-manylinux_2_17_x86_64.manylinux2014_x86_64.whl (11.3 MB)\n",
      "\u001b[2K     \u001b[90m━━━━━━━━━━━━━━━━━━━━━━━━━━━━━━━━━━━━━━━━\u001b[0m \u001b[32m11.3/11.3 MB\u001b[0m \u001b[31m45.6 MB/s\u001b[0m eta \u001b[36m0:00:00\u001b[0m00:01\u001b[0m00:01\u001b[0m\n",
      "\u001b[?25hCollecting numpy>=1.17.3\n",
      "  Downloading numpy-1.21.6-cp37-cp37m-manylinux_2_12_x86_64.manylinux2010_x86_64.whl (15.7 MB)\n",
      "\u001b[2K     \u001b[90m━━━━━━━━━━━━━━━━━━━━━━━━━━━━━━━━━━━━━━━━\u001b[0m \u001b[32m15.7/15.7 MB\u001b[0m \u001b[31m64.3 MB/s\u001b[0m eta \u001b[36m0:00:00\u001b[0m00:01\u001b[0m00:01\u001b[0m\n",
      "\u001b[?25hRequirement already satisfied: python-dateutil>=2.7.3 in /home/I6356345/anaconda3/envs/p37/lib/python3.7/site-packages (from pandas) (2.9.0)\n",
      "Collecting pytz>=2017.3\n",
      "  Downloading pytz-2024.2-py2.py3-none-any.whl (508 kB)\n",
      "\u001b[2K     \u001b[90m━━━━━━━━━━━━━━━━━━━━━━━━━━━━━━━━━━━━━━━\u001b[0m \u001b[32m508.0/508.0 kB\u001b[0m \u001b[31m9.3 MB/s\u001b[0m eta \u001b[36m0:00:00\u001b[0m00:01\u001b[0m\n",
      "\u001b[?25hRequirement already satisfied: six>=1.5 in /home/I6356345/anaconda3/envs/p37/lib/python3.7/site-packages (from python-dateutil>=2.7.3->pandas) (1.16.0)\n",
      "Installing collected packages: pytz, numpy, pandas\n",
      "Successfully installed numpy-1.21.6 pandas-1.3.5 pytz-2024.2\n"
     ]
    }
   ],
   "source": [
    "! pip install pandas"
   ]
  },
  {
   "cell_type": "code",
   "execution_count": 8,
   "id": "8d9f840e",
   "metadata": {},
   "outputs": [],
   "source": [
    "DB_NAME = \"../../../data/pym.sqlite3\"\n",
    "ZIP_NAME = \"../../../data/umls-2024AA-full.zip\"\n",
    "SAVE_TO = \"../../../data/triplets.tsv\"\n",
    "\n",
    "\n",
    "BANNED_PROPS = ['icd-o-3_code', 'term_type', 'subset_member', 'label', 'terminology', 'synonyms', 'unifieds']\n",
    "RANDOM_SEED=30_239_566"
   ]
  },
  {
   "cell_type": "code",
   "execution_count": 3,
   "id": "83bed834",
   "metadata": {},
   "outputs": [],
   "source": [
    "default_world.set_backend(filename = DB_NAME)\n",
    "PYM = get_ontology(\"http://PYM/\").load()"
   ]
  },
  {
   "cell_type": "markdown",
   "id": "bd06e875",
   "metadata": {},
   "source": [
    "# Extracting concept"
   ]
  },
  {
   "cell_type": "code",
   "execution_count": 6,
   "id": "1244e964",
   "metadata": {},
   "outputs": [],
   "source": [
    "def get_concept_triplets(concept, seed=None):\n",
    "    triplets = []\n",
    "    \n",
    "    # Set random seed for reproducibility if provided\n",
    "    if seed is not None:\n",
    "        random.seed(seed)\n",
    "    \n",
    "    # Iterate through all properties of the concept\n",
    "    for prop in concept.get_class_properties():\n",
    "        # Skip the banned properties\n",
    "        if prop.name in BANNED_PROPS:\n",
    "            continue\n",
    "        \n",
    "        # Get the linked concept(s) via the property\n",
    "        related_concepts = getattr(concept, prop.name)\n",
    "        \n",
    "        # If related concepts are a list or set, select one randomly\n",
    "        if isinstance(related_concepts, list) or isinstance(related_concepts, set):\n",
    "            if related_concepts:\n",
    "                selected_concept = random.choice(list(related_concepts))\n",
    "                if hasattr(selected_concept, 'label') and selected_concept.label:\n",
    "                    triplets.append((str(concept.label[0]), prop.name, str(selected_concept.label[0])))\n",
    "                else:\n",
    "                    triplets.append((str(concept.label[0]), prop.name, str(selected_concept)))\n",
    "        else:\n",
    "            # If it's a single concept\n",
    "            if hasattr(related_concepts, 'label') and related_concepts.label:\n",
    "                triplets.append((str(concept.label[0]), prop.name, str(related_concepts.label[0])))\n",
    "            else:\n",
    "                triplets.append((str(concept.label[0]), prop.name, str(related_concepts)))\n",
    "    \n",
    "    return triplets\n",
    "\n",
    "# Function to get triplets for all concepts in the ontology\n",
    "def get_all_concept_triplets(ontology, seed=None):\n",
    "    all_triplets = []\n",
    "\n",
    "    # Iterate over all concepts (classes) in the ontology\n",
    "    for concept in tqdm(ontology.classes()):\n",
    "        try:\n",
    "            triplets = get_concept_triplets(concept, seed)  # Use the function from before\n",
    "            all_triplets.extend(triplets)  # Add the triplets to the full list\n",
    "        except IndexError:\n",
    "            pass\n",
    "    return all_triplets"
   ]
  },
  {
   "cell_type": "code",
   "execution_count": 7,
   "id": "f1a9bcf5",
   "metadata": {},
   "outputs": [
    {
     "name": "stderr",
     "output_type": "stream",
     "text": [
      "1220039it [07:06, 2863.03it/s]\n"
     ]
    }
   ],
   "source": [
    "all_triplets = get_all_concept_triplets(PYM, seed=RANDOM_SEED)\n",
    "# for triplet in all_triplets:\n",
    "#     print(triplet)"
   ]
  },
  {
   "cell_type": "markdown",
   "id": "d914b323",
   "metadata": {},
   "source": [
    "## Save it"
   ]
  },
  {
   "cell_type": "code",
   "execution_count": 9,
   "id": "ec20daed",
   "metadata": {},
   "outputs": [
    {
     "ename": "NameError",
     "evalue": "name 'pd' is not defined",
     "output_type": "error",
     "traceback": [
      "\u001b[0;31m---------------------------------------------------------------------------\u001b[0m",
      "\u001b[0;31mNameError\u001b[0m                                 Traceback (most recent call last)",
      "\u001b[0;32m/tmp/ipykernel_2717522/3510163182.py\u001b[0m in \u001b[0;36m<module>\u001b[0;34m\u001b[0m\n\u001b[0;32m----> 1\u001b[0;31m \u001b[0mdf\u001b[0m \u001b[0;34m=\u001b[0m \u001b[0mpd\u001b[0m\u001b[0;34m.\u001b[0m\u001b[0mDataFrame\u001b[0m\u001b[0;34m(\u001b[0m\u001b[0mall_triplets\u001b[0m\u001b[0;34m,\u001b[0m \u001b[0mcolumns\u001b[0m\u001b[0;34m=\u001b[0m\u001b[0;34m[\u001b[0m\u001b[0;34m'Concept'\u001b[0m\u001b[0;34m,\u001b[0m \u001b[0;34m'Property'\u001b[0m\u001b[0;34m,\u001b[0m \u001b[0;34m'Related Concept'\u001b[0m\u001b[0;34m]\u001b[0m\u001b[0;34m)\u001b[0m\u001b[0;34m\u001b[0m\u001b[0;34m\u001b[0m\u001b[0m\n\u001b[0m\u001b[1;32m      2\u001b[0m \u001b[0;31m# Save the DataFrame to a CSV file\u001b[0m\u001b[0;34m\u001b[0m\u001b[0;34m\u001b[0m\u001b[0;34m\u001b[0m\u001b[0m\n\u001b[1;32m      3\u001b[0m \u001b[0mdf\u001b[0m\u001b[0;34m.\u001b[0m\u001b[0mto_csv\u001b[0m\u001b[0;34m(\u001b[0m\u001b[0mSAVE_TO\u001b[0m\u001b[0;34m,\u001b[0m \u001b[0mindex\u001b[0m\u001b[0;34m=\u001b[0m\u001b[0;32mFalse\u001b[0m\u001b[0;34m,\u001b[0m \u001b[0msep\u001b[0m\u001b[0;34m=\u001b[0m\u001b[0;34m'\\t'\u001b[0m\u001b[0;34m)\u001b[0m\u001b[0;34m\u001b[0m\u001b[0;34m\u001b[0m\u001b[0m\n",
      "\u001b[0;31mNameError\u001b[0m: name 'pd' is not defined"
     ]
    }
   ],
   "source": [
    "df = pd.DataFrame(all_triplets, columns=['Concept', 'Property', 'Related Concept'])\n",
    "# Save the DataFrame to a CSV file\n",
    "df.to_csv(SAVE_TO, index=False, sep='\\t')"
   ]
  },
  {
   "cell_type": "code",
   "execution_count": null,
   "id": "bdae9209",
   "metadata": {},
   "outputs": [],
   "source": []
  }
 ],
 "metadata": {
  "kernelspec": {
   "display_name": "Python 3 (ipykernel)",
   "language": "python",
   "name": "python3"
  },
  "language_info": {
   "codemirror_mode": {
    "name": "ipython",
    "version": 3
   },
   "file_extension": ".py",
   "mimetype": "text/x-python",
   "name": "python",
   "nbconvert_exporter": "python",
   "pygments_lexer": "ipython3",
   "version": "3.7.12"
  }
 },
 "nbformat": 4,
 "nbformat_minor": 5
}

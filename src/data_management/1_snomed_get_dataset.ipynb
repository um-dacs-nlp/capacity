{
 "cells": [
  {
   "cell_type": "code",
   "execution_count": 1,
   "id": "de618e27",
   "metadata": {},
   "outputs": [],
   "source": [
    "from owlready2 import *\n",
    "from owlready2.pymedtermino2 import *\n",
    "from owlready2.pymedtermino2.umls import *\n",
    "# from owlready2.pymedtermino2.icd10_french import *\n",
    "\n",
    "from tqdm import tqdm\n",
    "\n",
    "import random"
   ]
  },
  {
   "cell_type": "code",
   "execution_count": null,
   "id": "8d9f840e",
   "metadata": {},
   "outputs": [],
   "source": [
    "DB_NAME = \"../../../data/pym.sqlite3\"\n",
    "ZIP_NAME = \"../../../data/umls-2024AA-full.zip\"\n",
    "SAVE_TO = \"../../../data/triplets.tsv\"\n",
    "\n",
    "\n",
    "BANNED_PROPS = ['icd-o-3_code', 'term_type', 'subset_member', 'label', 'terminology', 'synonyms', 'unifieds']\n",
    "RANDOM_SEED=30_239_566"
   ]
  },
  {
   "cell_type": "code",
   "execution_count": 3,
   "id": "83bed834",
   "metadata": {},
   "outputs": [],
   "source": [
    "default_world.set_backend(filename = DB_NAME)\n",
    "PYM = get_ontology(\"http://PYM/\").load()"
   ]
  },
  {
   "cell_type": "markdown",
   "id": "bd06e875",
   "metadata": {},
   "source": [
    "# Extracting concept"
   ]
  },
  {
   "cell_type": "code",
   "execution_count": 6,
   "id": "1244e964",
   "metadata": {},
   "outputs": [],
   "source": [
    "def get_concept_triplets(concept, seed=None):\n",
    "    triplets = []\n",
    "    \n",
    "    # Set random seed for reproducibility if provided\n",
    "    if seed is not None:\n",
    "        random.seed(seed)\n",
    "    \n",
    "    # Iterate through all properties of the concept\n",
    "    for prop in concept.get_class_properties():\n",
    "        # Skip the banned properties\n",
    "        if prop.name in BANNED_PROPS:\n",
    "            continue\n",
    "        \n",
    "        # Get the linked concept(s) via the property\n",
    "        related_concepts = getattr(concept, prop.name)\n",
    "        \n",
    "        # If related concepts are a list or set, select one randomly\n",
    "        if isinstance(related_concepts, list) or isinstance(related_concepts, set):\n",
    "            if related_concepts:\n",
    "                selected_concept = random.choice(list(related_concepts))\n",
    "                if hasattr(selected_concept, 'label') and selected_concept.label:\n",
    "                    triplets.append((str(concept.label[0]), prop.name, str(selected_concept.label[0])))\n",
    "                else:\n",
    "                    triplets.append((str(concept.label[0]), prop.name, str(selected_concept)))\n",
    "        else:\n",
    "            # If it's a single concept\n",
    "            if hasattr(related_concepts, 'label') and related_concepts.label:\n",
    "                triplets.append((str(concept.label[0]), prop.name, str(related_concepts.label[0])))\n",
    "            else:\n",
    "                triplets.append((str(concept.label[0]), prop.name, str(related_concepts)))\n",
    "    \n",
    "    return triplets\n",
    "\n",
    "# Function to get triplets for all concepts in the ontology\n",
    "def get_all_concept_triplets(ontology, seed=None):\n",
    "    all_triplets = []\n",
    "\n",
    "    # Iterate over all concepts (classes) in the ontology\n",
    "    for concept in tqdm(ontology.classes()):\n",
    "        try:\n",
    "            triplets = get_concept_triplets(concept, seed)  # Use the function from before\n",
    "            all_triplets.extend(triplets)  # Add the triplets to the full list\n",
    "        except IndexError:\n",
    "            pass\n",
    "    return all_triplets"
   ]
  },
  {
   "cell_type": "code",
   "execution_count": null,
   "id": "f1a9bcf5",
   "metadata": {},
   "outputs": [
    {
     "name": "stderr",
     "output_type": "stream",
     "text": [
      "525160it [03:59, 2525.25it/s]"
     ]
    }
   ],
   "source": [
    "all_triplets = get_all_concept_triplets(PYM, seed=RANDOM_SEED)\n",
    "# for triplet in all_triplets:\n",
    "#     print(triplet)"
   ]
  },
  {
   "cell_type": "markdown",
   "id": "d914b323",
   "metadata": {},
   "source": [
    "## Save it"
   ]
  },
  {
   "cell_type": "code",
   "execution_count": null,
   "id": "ec20daed",
   "metadata": {},
   "outputs": [],
   "source": [
    "df = pd.DataFrame(all_triplets, columns=['Concept', 'Property', 'Related Concept'])\n",
    "# Save the DataFrame to a CSV file\n",
    "df.to_csv(SAVE_TO, index=False, sep='\\t')"
   ]
  },
  {
   "cell_type": "code",
   "execution_count": null,
   "id": "bdae9209",
   "metadata": {},
   "outputs": [],
   "source": []
  }
 ],
 "metadata": {
  "kernelspec": {
   "display_name": "Python 3 (ipykernel)",
   "language": "python",
   "name": "python3"
  },
  "language_info": {
   "codemirror_mode": {
    "name": "ipython",
    "version": 3
   },
   "file_extension": ".py",
   "mimetype": "text/x-python",
   "name": "python",
   "nbconvert_exporter": "python",
   "pygments_lexer": "ipython3",
   "version": "3.7.12"
  }
 },
 "nbformat": 4,
 "nbformat_minor": 5
}

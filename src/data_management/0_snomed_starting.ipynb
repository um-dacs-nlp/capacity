{
 "cells": [
  {
   "cell_type": "code",
   "execution_count": 1,
   "id": "de618e27",
   "metadata": {},
   "outputs": [],
   "source": [
    "from owlready2 import *\n",
    "from owlready2.pymedtermino2 import *\n",
    "from owlready2.pymedtermino2.umls import *\n",
    "# from owlready2.pymedtermino2.icd10_french import *\n"
   ]
  },
  {
   "cell_type": "code",
   "execution_count": 2,
   "id": "8d9f840e",
   "metadata": {},
   "outputs": [],
   "source": [
    "DB_NAME = \"../../../data/pym.sqlite3\"\n",
    "ZIP_NAME = \"../../../data/umls-2024AA-full.zip\""
   ]
  },
  {
   "cell_type": "markdown",
   "id": "ffc7fb4c",
   "metadata": {},
   "source": [
    "!! NB In order to start, the user should download zip file with concepts, inctructions: `https://owlready2.readthedocs.io/en/latest/pymedtermino2.html`"
   ]
  },
  {
   "cell_type": "markdown",
   "id": "a18e6a57",
   "metadata": {},
   "source": [
    "# Load from zip (do once)\n",
    "\n",
    "Notes:\n",
    "* we can omit terminologies, than all will be imported\n",
    "* To import also suppressed/deprecated concept, add the following parameter: remove_suppressed = “”.\n",
    "* french (commented) is optional (do not need for our purposes)."
   ]
  },
  {
   "cell_type": "code",
   "execution_count": 4,
   "id": "c1d9fe36",
   "metadata": {},
   "outputs": [
    {
     "name": "stdout",
     "output_type": "stream",
     "text": [
      "Importing UMLS from ../../../data/umls-2024AA-full.zip with Python version 3.7.12 and Owlready version 2-0.47...\n",
      "Full UMLS release - importing UMLS from inner Zip file 2024AA-full/2024aa-1-meta.nlm...\n",
      "  Parsing 2024AA/META/MRSTY.RRF.gz as MRSTY with encoding UTF-8\n",
      "  Parsing 2024AA/META/MRRANK.RRF.gz as MRRANK with encoding UTF-8\n",
      "  Parsing 2024AA/META/MRCONSO.RRF.aa.gz as MRCONSO with encoding UTF-8\n",
      "  Parsing 2024AA/META/MRCONSO.RRF.ab.gz as MRCONSO with encoding UTF-8\n",
      "  Parsing 2024AA/META/MRDEF.RRF.gz as MRDEF with encoding UTF-8\n",
      "Full UMLS release - importing UMLS from inner Zip file 2024AA-full/2024aa-2-meta.nlm...\n",
      "  Parsing 2024AA/META/MRREL.RRF.aa.gz as MRREL with encoding UTF-8\n",
      "  Parsing 2024AA/META/MRREL.RRF.ab.gz as MRREL with encoding UTF-8\n",
      "  Parsing 2024AA/META/MRREL.RRF.ac.gz as MRREL with encoding UTF-8\n",
      "  Parsing 2024AA/META/MRREL.RRF.ad.gz as MRREL with encoding UTF-8\n",
      "  Parsing 2024AA/META/MRSAT.RRF.aa.gz as MRSAT with encoding UTF-8\n",
      "  Parsing 2024AA/META/MRSAT.RRF.ab.gz as MRSAT with encoding UTF-8\n",
      "  Parsing 2024AA/META/MRSAT.RRF.ac.gz as MRSAT with encoding UTF-8\n",
      "  Parsing 2024AA/META/MRSAT.RRF.ad.gz as MRSAT with encoding UTF-8\n",
      "  Parsing 2024AA/META/MRSAT.RRF.ae.gz as MRSAT with encoding UTF-8\n",
      "  Parsing 2024AA/META/MRSAT.RRF.af.gz as MRSAT with encoding UTF-8\n",
      "Breaking ORIG cycles...\n",
      "    SNOMEDCT_US : 0 cycles found: \n",
      "    ICD10 : 0 cycles found: \n",
      "    SRC : 0 cycles found: \n",
      "Finalizing only properties and restrictions...\n",
      "Finalizing CUI - ORIG mapping...\n",
      "FTS Indexing...\n"
     ]
    }
   ],
   "source": [
    "default_world.set_backend(filename = DB_NAME)\n",
    "import_umls(ZIP_NAME, terminologies = [\"ICD10\", \"SNOMEDCT_US\", \"CUI\"])\n",
    "# import_icd10_french()\n",
    "default_world.save()"
   ]
  },
  {
   "cell_type": "markdown",
   "id": "87fc13c7",
   "metadata": {},
   "source": [
    "# Check does it work"
   ]
  },
  {
   "cell_type": "code",
   "execution_count": 3,
   "id": "e8711e8d-b686-4b24-97d6-b944890fcca4",
   "metadata": {},
   "outputs": [],
   "source": [
    "default_world.set_backend(filename = DB_NAME)\n",
    "PYM = get_ontology(\"http://PYM/\").load()\n",
    "SNOMEDCT_US = PYM[\"SNOMEDCT_US\"]"
   ]
  },
  {
   "cell_type": "code",
   "execution_count": 4,
   "id": "a0b0f52a-b034-4309-9c50-5ca1827e87a6",
   "metadata": {},
   "outputs": [
    {
     "data": {
      "text/plain": [
       "SNOMEDCT_US[\"302509004\"] # Entire heart"
      ]
     },
     "execution_count": 4,
     "metadata": {},
     "output_type": "execute_result"
    }
   ],
   "source": [
    "concept = SNOMEDCT_US[302509004]\n",
    "concept"
   ]
  },
  {
   "cell_type": "code",
   "execution_count": 10,
   "id": "a990d20c-02dd-4f41-99f9-4c865c28734a",
   "metadata": {},
   "outputs": [
    {
     "data": {
      "text/plain": [
       "('302509004',\n",
       " [locstr('Entire heart', 'en')],\n",
       " [locstr('Entire heart (body structure)', 'en')],\n",
       " PYM[\"SNOMEDCT_US\"] # US Edition of SNOMED CT)"
      ]
     },
     "execution_count": 10,
     "metadata": {},
     "output_type": "execute_result"
    }
   ],
   "source": [
    "concept.name, concept.label, concept.synonyms, concept.terminology, "
   ]
  },
  {
   "cell_type": "code",
   "execution_count": 28,
   "id": "aa6ce1a1",
   "metadata": {},
   "outputs": [
    {
     "data": {
      "text/plain": [
       "'Entire heart'"
      ]
     },
     "execution_count": 28,
     "metadata": {},
     "output_type": "execute_result"
    }
   ],
   "source": [
    "str(concept.label[0])"
   ]
  },
  {
   "cell_type": "code",
   "execution_count": 11,
   "id": "82c7634d",
   "metadata": {},
   "outputs": [
    {
     "data": {
      "text/plain": [
       "([SNOMEDCT_US[\"195591003\"] # Entire transplanted heart],\n",
       " [SNOMEDCT_US[\"116004006\"] # Entire hollow viscus,\n",
       "  SNOMEDCT_US[\"187639008\"] # Entire thoracic viscus,\n",
       "  SNOMEDCT_US[\"80891009\"] # Heart structure])"
      ]
     },
     "execution_count": 11,
     "metadata": {},
     "output_type": "execute_result"
    }
   ],
   "source": [
    "concept.children, concept.parents"
   ]
  },
  {
   "cell_type": "code",
   "execution_count": 20,
   "id": "2e8048d2",
   "metadata": {},
   "outputs": [
    {
     "data": {
      "text/plain": [
       "SNOMEDCT_US[\"302509004\"] # Entire heart"
      ]
     },
     "execution_count": 20,
     "metadata": {},
     "output_type": "execute_result"
    }
   ],
   "source": [
    "concept"
   ]
  },
  {
   "cell_type": "code",
   "execution_count": 22,
   "id": "76686bb1",
   "metadata": {},
   "outputs": [
    {
     "data": {
      "text/plain": [
       "{PYM.finding_site_of,\n",
       " PYM.type_id,\n",
       " PYM.ctv3id,\n",
       " PYM.effective_time,\n",
       " PYM.active,\n",
       " PYM.entire_anatomy_structure_of,\n",
       " PYM.synonyms,\n",
       " PYM.terminology,\n",
       " PYM.definition_status_id,\n",
       " rdf-schema.label,\n",
       " PYM.subset_member,\n",
       " PYM.term_type,\n",
       " PYM.unifieds,\n",
       " PYM.icd-o-3_code,\n",
       " PYM.case_significance_id}"
      ]
     },
     "execution_count": 22,
     "metadata": {},
     "output_type": "execute_result"
    }
   ],
   "source": [
    "concept.get_class_properties()"
   ]
  },
  {
   "cell_type": "markdown",
   "id": "81b22427",
   "metadata": {},
   "source": [
    "__Summary__:\n",
    "    \n",
    "I need to get all triplets:\n",
    "node, property, node\n",
    "\n",
    "If I have one node, i can get the name via: `str(concept.label[0])`, and i can get it's properties via: `concept.get_class_properties()`, which returns set. And i can access it by calling (specific name).\n",
    "I need list of all `(concept, prop, concept)` for the current concept..."
   ]
  },
  {
   "cell_type": "markdown",
   "id": "bd06e875",
   "metadata": {},
   "source": [
    "# Extracting concept"
   ]
  },
  {
   "cell_type": "code",
   "execution_count": 43,
   "id": "1244e964",
   "metadata": {},
   "outputs": [],
   "source": [
    "import random\n",
    "\n",
    "# BANNED_PROPS = ['icd-o-3_code', 'term_type', 'subset_member', 'label', 'terminology', 'synonyms', 'unifieds']\n",
    "RANDOM_SEED=30_239_566\n",
    "\n",
    "\n",
    "def get_concept_triplets(concept, seed=None):\n",
    "    triplets = []\n",
    "    \n",
    "    # Set random seed for reproducibility if provided\n",
    "    if seed is not None:\n",
    "        random.seed(seed)\n",
    "    \n",
    "    # Iterate through all properties of the concept\n",
    "    for prop in concept.get_class_properties():\n",
    "        # Skip the banned properties\n",
    "        if prop.name in BANNED_PROPS:\n",
    "            continue\n",
    "        \n",
    "        # Get the linked concept(s) via the property\n",
    "        related_concepts = getattr(concept, prop.name)\n",
    "        \n",
    "        # If related concepts are a list or set, select one randomly\n",
    "        if isinstance(related_concepts, list) or isinstance(related_concepts, set):\n",
    "            if related_concepts:\n",
    "                selected_concept = random.choice(list(related_concepts))\n",
    "                if hasattr(selected_concept, 'label') and selected_concept.label:\n",
    "                    triplets.append((str(concept.label[0]), prop.name, str(selected_concept.label[0])))\n",
    "                else:\n",
    "                    triplets.append((str(concept.label[0]), prop.name, str(selected_concept)))\n",
    "        else:\n",
    "            # If it's a single concept\n",
    "            if hasattr(related_concepts, 'label') and related_concepts.label:\n",
    "                triplets.append((str(concept.label[0]), prop.name, str(related_concepts.label[0])))\n",
    "            else:\n",
    "                triplets.append((str(concept.label[0]), prop.name, str(related_concepts)))\n",
    "    \n",
    "    return triplets"
   ]
  },
  {
   "cell_type": "code",
   "execution_count": 44,
   "id": "4ad538c8",
   "metadata": {},
   "outputs": [
    {
     "data": {
      "text/plain": [
       "[('Entire heart', 'case_significance_id', '900000000000448009'),\n",
       " ('Entire heart', 'definition_status_id', '900000000000074008'),\n",
       " ('Entire heart', 'entire_anatomy_structure_of', 'Heart structure'),\n",
       " ('Entire heart', 'active', '1'),\n",
       " ('Entire heart', 'effective_time', '20020131'),\n",
       " ('Entire heart', 'ctv3id', 'Xa8SM'),\n",
       " ('Entire heart', 'type_id', '900000000000003001'),\n",
       " ('Entire heart', 'finding_site_of', 'Mesocardia')]"
      ]
     },
     "execution_count": 44,
     "metadata": {},
     "output_type": "execute_result"
    }
   ],
   "source": [
    "get_concept_triplets(concept, seed=RANDOM_SEED)"
   ]
  },
  {
   "cell_type": "code",
   "execution_count": 50,
   "id": "2e24dfb6",
   "metadata": {},
   "outputs": [],
   "source": [
    "from tqdm import tqdm\n",
    "\n",
    "# Function to get triplets for all concepts in the ontology\n",
    "def get_all_concept_triplets(ontology, seed=None):\n",
    "    all_triplets = []\n",
    "\n",
    "    # Iterate over all concepts (classes) in the ontology\n",
    "    for concept in tqdm(ontology.classes()):\n",
    "        triplets = get_concept_triplets(concept, seed)  # Use the function from before\n",
    "        all_triplets.extend(triplets)  # Add the triplets to the full list\n",
    "    \n",
    "    return all_triplets"
   ]
  },
  {
   "cell_type": "code",
   "execution_count": null,
   "id": "f1a9bcf5",
   "metadata": {},
   "outputs": [
    {
     "name": "stderr",
     "output_type": "stream",
     "text": [
      "87560it [01:03, 1300.83it/s]"
     ]
    }
   ],
   "source": [
    "all_triplets = get_all_concept_triplets(PYM, seed=RANDOM_SEED)\n",
    "# for triplet in all_triplets:\n",
    "#     print(triplet)"
   ]
  },
  {
   "cell_type": "code",
   "execution_count": null,
   "id": "ec20daed",
   "metadata": {},
   "outputs": [],
   "source": []
  }
 ],
 "metadata": {
  "kernelspec": {
   "display_name": "Python 3 (ipykernel)",
   "language": "python",
   "name": "python3"
  },
  "language_info": {
   "codemirror_mode": {
    "name": "ipython",
    "version": 3
   },
   "file_extension": ".py",
   "mimetype": "text/x-python",
   "name": "python",
   "nbconvert_exporter": "python",
   "pygments_lexer": "ipython3",
   "version": "3.7.12"
  }
 },
 "nbformat": 4,
 "nbformat_minor": 5
}
